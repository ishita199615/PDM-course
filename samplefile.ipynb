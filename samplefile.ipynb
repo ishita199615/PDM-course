{
 "cells": [
  {
   "cell_type": "code",
   "execution_count": 2,
   "id": "039b8c8c-7b8e-4a6e-90fe-890989dcb9c8",
   "metadata": {},
   "outputs": [
    {
     "name": "stdout",
     "output_type": "stream",
     "text": [
      "helloworld\n"
     ]
    }
   ],
   "source": [
    "print(\"helloworld\")"
   ]
  },
  {
   "cell_type": "code",
   "execution_count": null,
   "id": "defdc4bc-d4bc-4e77-b2dc-59adece2c380",
   "metadata": {},
   "outputs": [],
   "source": []
  }
 ],
 "metadata": {
  "kernelspec": {
   "display_name": "myenv",
   "language": "python",
   "name": "myenv"
  },
  "language_info": {
   "codemirror_mode": {
    "name": "ipython",
    "version": 3
   },
   "file_extension": ".py",
   "mimetype": "text/x-python",
   "name": "python",
   "nbconvert_exporter": "python",
   "pygments_lexer": "ipython3",
   "version": "3.11.3"
  }
 },
 "nbformat": 4,
 "nbformat_minor": 5
}
